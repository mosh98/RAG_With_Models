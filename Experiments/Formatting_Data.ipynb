{
 "cells": [
  {
   "cell_type": "markdown",
   "metadata": {},
   "source": [
    "## Installed packages\n",
    "\n",
    "```python\n",
    "pip install PyMuPDF\n",
    "pip install Ollama\n",
    "\n",
    "```"
   ]
  },
  {
   "cell_type": "markdown",
   "metadata": {},
   "source": [
    "## Extract Data From PDF"
   ]
  },
  {
   "cell_type": "code",
   "execution_count": 1,
   "metadata": {},
   "outputs": [],
   "source": [
    "import fitz  # PyMuPDF\n",
    "\n",
    "def extract_text_from_pdf(pdf_path):\n",
    "    \"\"\"\n",
    "    Extracts text from each page of the given PDF file and returns it as a list.\n",
    "\n",
    "    :param pdf_path: The path to the PDF file.\n",
    "    :return: A list of strings, each containing the text from a page of the PDF.\n",
    "    \"\"\"\n",
    "    # Open the PDF file\n",
    "    document = fitz.open(pdf_path)\n",
    "    text_list = []\n",
    "\n",
    "    # Loop through each page\n",
    "    for page_number in range(len(document)):\n",
    "        page = document.load_page(page_number)\n",
    "        text = page.get_text()\n",
    "        text_list.append(text)\n",
    "\n",
    "    # Close the document\n",
    "    document.close()\n",
    "\n",
    "    return text_list\n",
    "\n",
    "pdf_path = \"/Users/mosleh/Documents/VSPROJECTS/Dataset Creation from PDF/Tutorial_EDIT.pdf\"\n",
    "text_data = extract_text_from_pdf(pdf_path)\n"
   ]
  },
  {
   "cell_type": "markdown",
   "metadata": {},
   "source": [
    "# Parsing Function"
   ]
  },
  {
   "cell_type": "code",
   "execution_count": 2,
   "metadata": {},
   "outputs": [],
   "source": [
    "QA_pair_list = []\n",
    "\n",
    "counter = 0\n",
    "failed_gen_counter = 0"
   ]
  },
  {
   "cell_type": "code",
   "execution_count": 8,
   "metadata": {},
   "outputs": [],
   "source": [
    "import json\n",
    "\n",
    "\n",
    "def parse_coding_question_data(data):\n",
    "    try:\n",
    "        # Split the input string into question and answer parts\n",
    "        parts = data.split(\"**Answer**\")\n",
    "        question_part = parts[0].strip()\n",
    "        answer_part = parts[1].strip()\n",
    "\n",
    "        # Extract the question text\n",
    "        question_text = question_part.replace(\"**Question**\", \"\").strip()\n",
    "\n",
    "        # Remove any trailing code block markers\n",
    "        if answer_part.startswith(':'):\n",
    "            answer_part = answer_part[1:].strip()\n",
    "        \n",
    "        # Create JSON object\n",
    "        question_json = {\n",
    "            \"user\": question_text,\n",
    "            \"assistant\": answer_part\n",
    "        }\n",
    "\n",
    "        return question_json\n",
    "    except Exception as e:\n",
    "        # Increment the counter for failed generations\n",
    "        print(f\"An error occurred: {e}\")\n",
    "        return None\n",
    "\n"
   ]
  },
  {
   "cell_type": "markdown",
   "metadata": {},
   "source": [
    "# Inference Loop"
   ]
  },
  {
   "cell_type": "code",
   "execution_count": null,
   "metadata": {},
   "outputs": [],
   "source": [
    "import ollama\n",
    "\n",
    "for page_number, page_text in enumerate(text_data, start=5):\n",
    "     context = page_text\n",
    "     \n",
    "     response = ollama.chat(model='llama3.1', messages=[\n",
    "         {\n",
    "          'role': 'user',\n",
    "          'content': f'Based upon this context{context}',\n",
    "        },\n",
    "         \n",
    "        {\n",
    "          'role': 'user',\n",
    "          'content': f'Make up a Coding Question & Answer?',\n",
    "        },\n",
    "  \n",
    "        {'role': 'user', 'content': 'Have standardized Sections like **Question** and **Answer**',}\n",
    "        \n",
    "        \n",
    "      ])\n",
    "     \n",
    "     result = parse_coding_question_data(response['message']['content'])\n",
    "     print(response['message']['content'])\n",
    "     \n",
    "     \n",
    "\n",
    "     \n",
    "     if result is not None:\n",
    "        print(\"___________________\")\n",
    "        QA_pair_list.append(result)\n",
    "        print(result)\n",
    "        print(\"__________\")  \n",
    "     \n",
    "     counter += 1\n",
    "     \n",
    "     if counter == 2:\n",
    "        break   \n",
    "      "
   ]
  },
  {
   "cell_type": "markdown",
   "metadata": {},
   "source": [
    "# Saving Data"
   ]
  },
  {
   "cell_type": "code",
   "execution_count": null,
   "metadata": {},
   "outputs": [],
   "source": [
    "# File path for the JSONL file\n",
    "file_path = 'data.jsonl'\n",
    "\n",
    "# Writing JSON objects to a JSONL file\n",
    "with open(file_path, 'w') as file:\n",
    "    for item in QA_pair_list:\n",
    "        json_line = json.dumps(item)  # Convert JSON object to a string\n",
    "        file.write(json_line + '\\n')  # Write the string to the file followed by a newline"
   ]
  },
  {
   "cell_type": "code",
   "execution_count": null,
   "metadata": {},
   "outputs": [],
   "source": [
    "#rint(\"Total tries for QA generation\", counter)\n",
    "#print(\"Failed tries for QA generation\", failed_gen_counter)\n",
    "        \n",
    "        \n",
    "     \n",
    "     \n",
    "     "
   ]
  },
  {
   "cell_type": "code",
   "execution_count": null,
   "metadata": {},
   "outputs": [],
   "source": []
  }
 ],
 "metadata": {
  "kernelspec": {
   "display_name": "base",
   "language": "python",
   "name": "python3"
  },
  "language_info": {
   "codemirror_mode": {
    "name": "ipython",
    "version": 3
   },
   "file_extension": ".py",
   "mimetype": "text/x-python",
   "name": "python",
   "nbconvert_exporter": "python",
   "pygments_lexer": "ipython3",
   "version": "3.11.7"
  }
 },
 "nbformat": 4,
 "nbformat_minor": 2
}
