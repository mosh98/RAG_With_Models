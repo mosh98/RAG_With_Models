{
 "cells": [
  {
   "cell_type": "markdown",
   "metadata": {},
   "source": [
    "# List of Packages to Download\n",
    "\n",
    "```python\n",
    "!pip install langchain-chroma\n",
    "!pip install langchain\n",
    "!pip install langchain_community\n",
    "!pip install langchainhub\n",
    "!pip install --upgrade --quiet  gpt4all > /dev/null"
   ]
  },
  {
   "cell_type": "markdown",
   "metadata": {},
   "source": [
    "# 1. Get a Data Loader\n"
   ]
  },
  {
   "cell_type": "code",
   "execution_count": 1,
   "metadata": {},
   "outputs": [],
   "source": [
    "from langchain_community.document_loaders import WebBaseLoader\n"
   ]
  },
  {
   "cell_type": "code",
   "execution_count": 2,
   "metadata": {},
   "outputs": [
    {
     "data": {
      "text/plain": [
       "[Document(page_content=\"\\n\\n\\nLeBron James Game Log - NBA  | FOX Sports\\n\\n\\n    my favs \\n          Access and manage your favorites here\\n          \\n            DISMISS\\n                  Scores Watch Odds Stories Podcasts  \\n                  Search\\n                     \\n                  Sign In\\n                    \\n                  Account\\n                    \\n              SPORTS & TEAMS\\n             \\n              PLAYERS\\n             \\n              SHOWS\\n             \\n              PERSONALITIES\\n                    SPORTS   \\n              SPORTS & TEAMS\\n            \\n              PLAYERS\\n            \\n              SHOWS\\n            \\n              PERSONALITIES\\n             \\n          SPORTS\\n          \\n                NFL\\n                \\n                NCAA FB\\n                \\n                MLB\\n                \\n                NBA\\n                \\n                NCAA BK\\n                \\n                NASCAR\\n                \\n                Soccer\\n                \\n                UFL\\n                \\n                NCAAW BK\\n                \\n                NHL\\n                \\n                Golf\\n                \\n                Premier Boxing Champions\\n                \\n                WWE\\n                \\n                UFC\\n                \\n                WNBA\\n                \\n                Tennis\\n                \\n                Motor Sports\\n                \\n                Professional Bowlers Association\\n                \\n                Horse Racing\\n                \\n                Westminster Kennel Club\\n                \\n                FIBA\\n                \\n                Olympics\\n                \\n                World Baseball Classic\\n                \\n                NRL\\n                \\n                The Basketball Tournament\\n                    \\n      NBA\\n     \\n      NBA\\n      \\n              NBA\\n              \\n              Atlanta Hawks\\n              \\n              Boston Celtics\\n              \\n              Brooklyn Nets\\n              \\n              Charlotte Hornets\\n              \\n              Chicago Bulls\\n              \\n              Cleveland Cavaliers\\n              \\n              Dallas Mavericks\\n              \\n              Denver Nuggets\\n              \\n              Detroit Pistons\\n              \\n              Golden State Warriors\\n              \\n              Houston Rockets\\n              \\n              Indiana Pacers\\n              \\n              LA Clippers\\n              \\n              Los Angeles Lakers\\n              \\n              Memphis Grizzlies\\n              \\n              Miami Heat\\n              \\n              Milwaukee Bucks\\n              \\n              Minnesota Timberwolves\\n              \\n              New Orleans Pelicans\\n              \\n              New York Knicks\\n              \\n              Oklahoma City Thunder\\n              \\n              Orlando Magic\\n              \\n              Philadelphia 76ers\\n              \\n              Phoenix Suns\\n              \\n              Portland Trail Blazers\\n              \\n              Sacramento Kings\\n              \\n              San Antonio Spurs\\n              \\n              Toronto Raptors\\n              \\n              Utah Jazz\\n              \\n              Washington Wizards\\n               NBA > LOS ANGELES LAKERS > LEBRON JAMES  2023  GAME LOG   LEBRON JAMES FULL GAME LOG 2023-24   2023-242022-232021-222020-212019-202018-192017-18REGULAR SEASON   REGULAR SEASONPOSTSEASONPRESEASON \\n            GAME\\n          \\n            MIN\\n          \\n            PTS\\n          \\n            FG\\n          \\n            3FG\\n          \\n            FT\\n          \\n            OFF REB\\n          \\n            DEF REB\\n          \\n            REB\\n          \\n            AST\\n          \\n            STL\\n          \\n            BLK\\n          \\n            PF\\n          \\n            TO\\n          \\n            +/-\\n          \\n      4/14\\n      \\n        @NOP\\n      W\\n      37\\n      \\n      28\\n      \\n      11/20\\n      \\n      0/2\\n      \\n      6/6\\n      \\n      2\\n      \\n      9\\n      \\n      11\\n      \\n      17\\n      \\n      5\\n      \\n      1\\n      \\n      0\\n      \\n      4\\n      \\n      19\\n      \\n      4/12\\n      \\n        @MEM\\n      W\\n      40\\n      \\n      37\\n      \\n      13/20\\n      \\n      3/7\\n      \\n      8/11\\n      \\n      2\\n      \\n      7\\n      \\n      9\\n      \\n      5\\n      \\n      2\\n      \\n      0\\n      \\n      1\\n      \\n      8\\n      \\n      -3\\n      \\n      4/9\\n      \\n        GSW\\n      L\\n      35\\n      \\n      33\\n      \\n      14/22\\n      \\n      1/3\\n      \\n      4/5\\n      \\n      1\\n      \\n      6\\n      \\n      7\\n      \\n      11\\n      \\n      2\\n      \\n      0\\n      \\n      0\\n      \\n      4\\n      \\n      -6\\n      \\n      4/6\\n      \\n        CLE\\n      W\\n      35\\n      \\n      24\\n      \\n      10/18\\n      \\n      1/5\\n      \\n      3/5\\n      \\n      0\\n      \\n      5\\n      \\n      5\\n      \\n      12\\n      \\n      1\\n      \\n      1\\n      \\n      1\\n      \\n      5\\n      \\n      10\\n      \\n      4/3\\n      \\n        @WAS\\n      W\\n      36\\n      \\n      25\\n      \\n      9/18\\n      \\n      0/1\\n      \\n      7/9\\n      \\n      2\\n      \\n      5\\n      \\n      7\\n      \\n      9\\n      \\n      3\\n      \\n      0\\n      \\n      2\\n      \\n      4\\n      \\n      9\\n      \\n      4/2\\n      \\n        @TOR\\n      W\\n      28\\n      \\n      23\\n      \\n      10/12\\n      \\n      1/1\\n      \\n      2/5\\n      \\n      0\\n      \\n      4\\n      \\n      4\\n      \\n      9\\n      \\n      0\\n      \\n      0\\n      \\n      0\\n      \\n      1\\n      \\n      13\\n      \\n      3/31\\n      \\n        @BKN\\n      W\\n      37\\n      \\n      40\\n      \\n      13/17\\n      \\n      9/10\\n      \\n      5/6\\n      \\n      1\\n      \\n      6\\n      \\n      7\\n      \\n      5\\n      \\n      0\\n      \\n      0\\n      \\n      0\\n      \\n      4\\n      \\n      22\\n      \\n      3/29\\n      \\n        @IND\\n      L\\n      34\\n      \\n      16\\n      \\n      6/12\\n      \\n      0/3\\n      \\n      4/4\\n      \\n      1\\n      \\n      9\\n      \\n      10\\n      \\n      8\\n      \\n      0\\n      \\n      0\\n      \\n      1\\n      \\n      5\\n      \\n      -13\\n      \\n      3/27\\n      \\n        @MEM\\n      W\\n      34\\n      \\n      23\\n      \\n      8/14\\n      \\n      0/1\\n      \\n      7/11\\n      \\n      0\\n      \\n      14\\n      \\n      14\\n      \\n      12\\n      \\n      1\\n      \\n      0\\n      \\n      1\\n      \\n      4\\n      \\n      33\\n      \\n      3/24\\n      \\n        IND\\n      W\\n      38\\n      \\n      26\\n      \\n      8/19\\n      \\n      2/4\\n      \\n      8/8\\n      \\n      1\\n      \\n      4\\n      \\n      5\\n      \\n      10\\n      \\n      1\\n      \\n      1\\n      \\n      1\\n      \\n      3\\n      \\n      12\\n      \\n      3/22\\n      \\n        PHI\\n      W\\n      37\\n      \\n      20\\n      \\n      7/15\\n      \\n      1/3\\n      \\n      5/7\\n      \\n      0\\n      \\n      8\\n      \\n      8\\n      \\n      6\\n      \\n      0\\n      \\n      1\\n      \\n      1\\n      \\n      8\\n      \\n      7\\n      \\n      3/18\\n      \\n        ATL\\n      W\\n      28\\n      \\n      25\\n      \\n      10/14\\n      \\n      2/5\\n      \\n      3/3\\n      \\n      0\\n      \\n      7\\n      \\n      7\\n      \\n      10\\n      \\n      0\\n      \\n      0\\n      \\n      0\\n      \\n      2\\n      \\n      20\\n      \\n      3/16\\n      \\n        GSW\\n      L\\n      37\\n      \\n      40\\n      \\n      15/23\\n      \\n      3/5\\n      \\n      7/8\\n      \\n      3\\n      \\n      5\\n      \\n      8\\n      \\n      9\\n      \\n      1\\n      \\n      1\\n      \\n      1\\n      \\n      4\\n      \\n      -6\\n      \\n      3/13\\n      \\n        @SAC\\n      L\\n      40\\n      \\n      18\\n      \\n      6/16\\n      \\n      2/8\\n      \\n      4/6\\n      \\n      1\\n      \\n      12\\n      \\n      13\\n      \\n      9\\n      \\n      2\\n      \\n      0\\n      \\n      3\\n      \\n      5\\n      \\n      -10\\n      \\n      3/10\\n      \\n        MIN\\n      W\\n      37\\n      \\n      29\\n      \\n      10/16\\n      \\n      2/4\\n      \\n      7/9\\n      \\n      0\\n      \\n      8\\n      \\n      8\\n      \\n      9\\n      \\n      0\\n      \\n      0\\n      \\n      1\\n      \\n      4\\n      \\n      14\\n      \\n      3/6\\n      \\n        SAC\\n      L\\n      36\\n      \\n      31\\n      \\n      10/16\\n      \\n      1/4\\n      \\n      10/10\\n      \\n      0\\n      \\n      5\\n      \\n      5\\n      \\n      13\\n      \\n      1\\n      \\n      0\\n      \\n      0\\n      \\n      3\\n      \\n      -3\\n      \\n      3/4\\n      \\n        OKC\\n      W\\n      30\\n      \\n      19\\n      \\n      7/14\\n      \\n      1/3\\n      \\n      4/5\\n      \\n      1\\n      \\n      10\\n      \\n      11\\n      \\n      8\\n      \\n      1\\n      \\n      0\\n      \\n      1\\n      \\n      3\\n      \\n      14\\n      \\n      3/2\\n      \\n        DEN\\n      L\\n      37\\n      \\n      26\\n      \\n      12/20\\n      \\n      2/5\\n      \\n      0/2\\n      \\n      0\\n      \\n      4\\n      \\n      4\\n      \\n      9\\n      \\n      3\\n      \\n      0\\n      \\n      1\\n      \\n      3\\n      \\n      -1\\n      \\n      2/29\\n      \\n        WAS\\n      W\\n      38\\n      \\n      31\\n      \\n      12/24\\n      \\n      2/5\\n      \\n      5/7\\n      \\n      0\\n      \\n      4\\n      \\n      4\\n      \\n      9\\n      \\n      1\\n      \\n      1\\n      \\n      1\\n      \\n      4\\n      \\n      -5\\n      \\n      2/28\\n      \\n        @LAC\\n      W\\n      37\\n      \\n      34\\n      \\n      13/21\\n      \\n      7/12\\n      \\n      1/1\\n      \\n      1\\n      \\n      5\\n      \\n      6\\n      \\n      8\\n      \\n      0\\n      \\n      2\\n      \\n      2\\n      \\n      3\\n      \\n      11\\n      \\n      2/25\\n      \\n        @PHX\\n      L\\n      36\\n      \\n      28\\n      \\n      12/19\\n      \\n      3/6\\n      \\n      1/4\\n      \\n      1\\n      \\n      6\\n      \\n      7\\n      \\n      12\\n      \\n      2\\n      \\n      1\\n      \\n      3\\n      \\n      3\\n      \\n      -8\\n      \\n      2/23\\n      \\n        SAS\\n      W\\n      34\\n      \\n      30\\n      \\n      13/22\\n      \\n      2/3\\n      \\n      2/2\\n      \\n      1\\n      \\n      6\\n      \\n      7\\n      \\n      9\\n      \\n      1\\n      \\n      0\\n      \\n      0\\n      \\n      2\\n      \\n      21\\n      \\n      2/13\\n      \\n        DET\\n      W\\n      30\\n      \\n      25\\n      \\n      9/15\\n      \\n      3/6\\n      \\n      4/4\\n      \\n      0\\n      \\n      1\\n      \\n      1\\n      \\n      8\\n      \\n      0\\n      \\n      0\\n      \\n      0\\n      \\n      4\\n      \\n      9\\n      \\n      2/9\\n      \\n        NOP\\n      W\\n      37\\n      \\n      21\\n      \\n      6/13\\n      \\n      2/2\\n      \\n      7/8\\n      \\n      1\\n      \\n      3\\n      \\n      4\\n      \\n      14\\n      \\n      1\\n      \\n      1\\n      \\n      2\\n      \\n      2\\n      \\n      15\\n      \\n      2/8\\n      \\n        DEN\\n      L\\n      35\\n      \\n      25\\n      \\n      9/20\\n      \\n      2/6\\n      \\n      5/5\\n      \\n      1\\n      \\n      8\\n      \\n      9\\n      \\n      7\\n      \\n      1\\n      \\n      1\\n      \\n      0\\n      \\n      2\\n      \\n      -6\\n      \\n      2/5\\n      \\n        @CHA\\n      W\\n      39\\n      \\n      26\\n      \\n      12/22\\n      \\n      0/5\\n      \\n      2/3\\n      \\n      0\\n      \\n      4\\n      \\n      4\\n      \\n      7\\n      \\n      1\\n      \\n      1\\n      \\n      2\\n      \\n      4\\n      \\n      2\\n      \\n      2/3\\n      \\n        @NYK\\n      W\\n      40\\n      \\n      24\\n      \\n      10/19\\n      \\n      2/5\\n      \\n      2/2\\n      \\n      1\\n      \\n      4\\n      \\n      5\\n      \\n      5\\n      \\n      2\\n      \\n      1\\n      \\n      1\\n      \\n      1\\n      \\n      11\\n      \\n      1/30\\n      \\n        @ATL\\n      L\\n      35\\n      \\n      20\\n      \\n      7/17\\n      \\n      2/6\\n      \\n      4/9\\n      \\n      2\\n      \\n      7\\n      \\n      9\\n      \\n      8\\n      \\n      1\\n      \\n      1\\n      \\n      1\\n      \\n      3\\n      \\n      -6\\n      \\n      1/29\\n      \\n        @HOU\\n      L\\n      36\\n      \\n      23\\n      \\n      9/15\\n      \\n      2/5\\n      \\n      3/8\\n      \\n      0\\n      \\n      6\\n      \\n      6\\n      \\n      10\\n      \\n      1\\n      \\n      1\\n      \\n      4\\n      \\n      1\\n      \\n      -11\\n      \\n      1/27\\n      \\n        @GSW\\n      W\\n      47\\n      \\n      36\\n      \\n      14/25\\n      \\n      2/4\\n      \\n      6/6\\n      \\n      1\\n      \\n      19\\n      \\n      20\\n      \\n      12\\n      \\n      0\\n      \\n      0\\n      \\n      2\\n      \\n      3\\n      \\n      -6\\n      \\n      1/25\\n      \\n        CHI\\n      W\\n      35\\n      \\n      25\\n      \\n      10/19\\n      \\n      3/4\\n      \\n      2/2\\n      \\n      0\\n      \\n      4\\n      \\n      4\\n      \\n      12\\n      \\n      2\\n      \\n      0\\n      \\n      2\\n      \\n      5\\n      \\n      14\\n      \\n      1/21\\n      \\n        POR\\n      W\\n      31\\n      \\n      28\\n      \\n      8/16\\n      \\n      3/8\\n      \\n      9/10\\n      \\n      0\\n      \\n      5\\n      \\n      5\\n      \\n      5\\n      \\n      0\\n      \\n      0\\n      \\n      2\\n      \\n      3\\n      \\n      28\\n      \\n      1/19\\n      \\n        BKN\\n      L\\n      33\\n      \\n      24\\n      \\n      9/22\\n      \\n      2/5\\n      \\n      4/5\\n      \\n      5\\n      \\n      6\\n      \\n      11\\n      \\n      5\\n      \\n      0\\n      \\n      0\\n      \\n      1\\n      \\n      4\\n      \\n      -13\\n      \\n      1/17\\n      \\n        DAL\\n      W\\n      33\\n      \\n      25\\n      \\n      10/19\\n      \\n      3/7\\n      \\n      2/2\\n      \\n      1\\n      \\n      7\\n      \\n      8\\n      \\n      8\\n      \\n      1\\n      \\n      0\\n      \\n      1\\n      \\n      3\\n      \\n      20\\n      \\n      1/15\\n      \\n        OKC\\n      W\\n      38\\n      \\n      25\\n      \\n      12/20\\n      \\n      1/2\\n      \\n      0/1\\n      \\n      0\\n      \\n      7\\n      \\n      7\\n      \\n      6\\n      \\n      0\\n      \\n      0\\n      \\n      1\\n      \\n      5\\n      \\n      2\\n      \\n      1/11\\n      \\n        PHX\\n      L\\n      24\\n      \\n      10\\n      \\n      3/11\\n      \\n      0/4\\n      \\n      4/7\\n      \\n      0\\n      \\n      5\\n      \\n      5\\n      \\n      9\\n      \\n      1\\n      \\n      0\\n      \\n      1\\n      \\n      4\\n      \\n      -25\\n      \\n      1/9\\n      \\n        TOR\\n      W\\n      35\\n      \\n      22\\n      \\n      8/17\\n      \\n      2/5\\n      \\n      4/6\\n      \\n      0\\n      \\n      5\\n      \\n      5\\n      \\n      12\\n      \\n      1\\n      \\n      1\\n      \\n      0\\n      \\n      3\\n      \\n      0\\n      \\n      1/7\\n      \\n        LAC\\n      W\\n      38\\n      \\n      25\\n      \\n      11/19\\n      \\n      1/3\\n      \\n      2/3\\n      \\n      1\\n      \\n      7\\n      \\n      8\\n      \\n      7\\n      \\n      1\\n      \\n      0\\n      \\n      2\\n      \\n      4\\n      \\n      5\\n      \\n      1/5\\n      \\n        MEM\\n      L\\n      38\\n      \\n      32\\n      \\n      11/24\\n      \\n      4/9\\n      \\n      6/10\\n      \\n      2\\n      \\n      3\\n      \\n      5\\n      \\n      7\\n      \\n      5\\n      \\n      0\\n      \\n      0\\n      \\n      4\\n      \\n      -8\\n      \\n      1/3\\n      \\n        MIA\\n      L\\n      38\\n      \\n      12\\n      \\n      6/18\\n      \\n      0/6\\n      \\n      0/0\\n      \\n      0\\n      \\n      6\\n      \\n      6\\n      \\n      9\\n      \\n      0\\n      \\n      0\\n      \\n      2\\n      \\n      2\\n      \\n      -20\\n      \\n      12/31\\n      \\n        @NOP\\n      L\\n      36\\n      \\n      34\\n      \\n      12/24\\n      \\n      3/7\\n      \\n      7/8\\n      \\n      0\\n      \\n      5\\n      \\n      5\\n      \\n      8\\n      \\n      0\\n      \\n      1\\n      \\n      2\\n      \\n      4\\n      \\n      -11\\n      \\n      12/30\\n      \\n        @MIN\\n      L\\n      38\\n      \\n      26\\n      \\n      10/21\\n      \\n      1/4\\n      \\n      5/7\\n      \\n      0\\n      \\n      3\\n      \\n      3\\n      \\n      6\\n      \\n      3\\n      \\n      1\\n      \\n      2\\n      \\n      1\\n      \\n      -5\\n      \\n      12/28\\n      \\n        CHA\\n      W\\n      24\\n      \\n      17\\n      \\n      7/13\\n      \\n      2/5\\n      \\n      1/1\\n      \\n      0\\n      \\n      4\\n      \\n      4\\n      \\n      11\\n      \\n      0\\n      \\n      0\\n      \\n      0\\n      \\n      2\\n      \\n      1\\n      \\n      12/25\\n      \\n        BOS\\n      L\\n      36\\n      \\n      16\\n      \\n      5/14\\n      \\n      1/2\\n      \\n      5/6\\n      \\n      0\\n      \\n      9\\n      \\n      9\\n      \\n      8\\n      \\n      0\\n      \\n      0\\n      \\n      1\\n      \\n      3\\n      \\n      -11\\n      \\n      12/23\\n      \\n        @OKC\\n      W\\n      37\\n      \\n      40\\n      \\n      13/20\\n      \\n      5/5\\n      \\n      9/9\\n      \\n      2\\n      \\n      5\\n      \\n      7\\n      \\n      7\\n      \\n      2\\n      \\n      2\\n      \\n      0\\n      \\n      3\\n      \\n      10\\n      \\n      12/20\\n      \\n        @CHI\\n      L\\n      36\\n      \\n      25\\n      \\n      10/18\\n      \\n      1/3\\n      \\n      4/4\\n      \\n      2\\n      \\n      8\\n      \\n      10\\n      \\n      9\\n      \\n      1\\n      \\n      2\\n      \\n      0\\n      \\n      5\\n      \\n      -11\\n      \\n      12/18\\n      \\n        NYK\\n      L\\n      39\\n      \\n      25\\n      \\n      10/23\\n      \\n      2/8\\n      \\n      3/4\\n      \\n      1\\n      \\n      10\\n      \\n      11\\n      \\n      11\\n      \\n      1\\n      \\n      0\\n      \\n      1\\n      \\n      2\\n      \\n      -13\\n      \\n      12/15\\n      \\n        @SAS\\n      L\\n      35\\n      \\n      23\\n      \\n      7/17\\n      \\n      2/6\\n      \\n      7/10\\n      \\n      2\\n      \\n      5\\n      \\n      7\\n      \\n      14\\n      \\n      2\\n      \\n      0\\n      \\n      1\\n      \\n      2\\n      \\n      -28\\n      \\n      12/12\\n      \\n        @DAL\\n      L\\n      40\\n      \\n      33\\n      \\n      14/27\\n      \\n      3/8\\n      \\n      2/3\\n      \\n      2\\n      \\n      6\\n      \\n      8\\n      \\n      9\\n      \\n      3\\n      \\n      1\\n      \\n      1\\n      \\n      4\\n      \\n      -4\\n      \\n      12/2\\n      \\n        HOU\\n      W\\n      35\\n      \\n      16\\n      \\n      7/17\\n      \\n      0/4\\n      \\n      2/5\\n      \\n      0\\n      \\n      4\\n      \\n      4\\n      \\n      7\\n      \\n      1\\n      \\n      1\\n      \\n      0\\n      \\n      5\\n      \\n      16\\n      \\n      11/30\\n      \\n        @OKC\\n      L\\n      35\\n      \\n      21\\n      \\n      7/12\\n      \\n      4/8\\n      \\n      3/4\\n      \\n      2\\n      \\n      10\\n      \\n      12\\n      \\n      6\\n      \\n      1\\n      \\n      1\\n      \\n      1\\n      \\n      5\\n      \\n      -18\\n      \\n      11/29\\n      \\n        @DET\\n      W\\n      28\\n      \\n      25\\n      \\n      9/19\\n      \\n      2/6\\n      \\n      5/5\\n      \\n      2\\n      \\n      6\\n      \\n      8\\n      \\n      3\\n      \\n      0\\n      \\n      0\\n      \\n      0\\n      \\n      1\\n      \\n      26\\n      \\n      11/27\\n      \\n        @PHI\\n      L\\n      29\\n      \\n      18\\n      \\n      8/12\\n      \\n      1/1\\n      \\n      1/2\\n      \\n      0\\n      \\n      0\\n      \\n      0\\n      \\n      5\\n      \\n      1\\n      \\n      1\\n      \\n      0\\n      \\n      1\\n      \\n      -30\\n      \\n      11/25\\n      \\n        @CLE\\n      W\\n      35\\n      \\n      22\\n      \\n      8/23\\n      \\n      1/9\\n      \\n      5/7\\n      \\n      1\\n      \\n      5\\n      \\n      6\\n      \\n      6\\n      \\n      2\\n      \\n      2\\n      \\n      1\\n      \\n      4\\n      \\n      2\\n      \\n      11/22\\n      \\n        DAL\\n      L\\n      36\\n      \\n      26\\n      \\n      9/19\\n      \\n      4/9\\n      \\n      4/7\\n      \\n      2\\n      \\n      7\\n      \\n      9\\n      \\n      7\\n      \\n      0\\n      \\n      0\\n      \\n      0\\n      \\n      3\\n      \\n      7\\n      \\n      11/19\\n      \\n        HOU\\n      W\\n      39\\n      \\n      37\\n      \\n      14/19\\n      \\n      2/5\\n      \\n      7/9\\n      \\n      1\\n      \\n      5\\n      \\n      6\\n      \\n      8\\n      \\n      3\\n      \\n      0\\n      \\n      0\\n      \\n      2\\n      \\n      2\\n      \\n      11/15\\n      \\n        SAC\\n      L\\n      35\\n      \\n      28\\n      \\n      9/15\\n      \\n      3/7\\n      \\n      7/8\\n      \\n      2\\n      \\n      8\\n      \\n      10\\n      \\n      12\\n      \\n      4\\n      \\n      1\\n      \\n      1\\n      \\n      6\\n      \\n      0\\n      \\n      11/8\\n      \\n        @HOU\\n      L\\n      27\\n      \\n      18\\n      \\n      7/13\\n      \\n      0/2\\n      \\n      4/5\\n      \\n      1\\n      \\n      5\\n      \\n      6\\n      \\n      2\\n      \\n      0\\n      \\n      0\\n      \\n      1\\n      \\n      3\\n      \\n      -24\\n      \\n      11/6\\n      \\n        @MIA\\n      L\\n      37\\n      \\n      30\\n      \\n      13/23\\n      \\n      0/4\\n      \\n      4/4\\n      \\n      0\\n      \\n      4\\n      \\n      4\\n      \\n      3\\n      \\n      1\\n      \\n      3\\n      \\n      4\\n      \\n      5\\n      \\n      6\\n      \\n      11/4\\n      \\n        @ORL\\n      L\\n      35\\n      \\n      24\\n      \\n      8/15\\n      \\n      2/5\\n      \\n      6/7\\n      \\n      1\\n      \\n      8\\n      \\n      9\\n      \\n      5\\n      \\n      3\\n      \\n      0\\n      \\n      1\\n      \\n      3\\n      \\n      12\\n      \\n      11/1\\n      \\n        LAC\\n      W\\n      42\\n      \\n      35\\n      \\n      13/19\\n      \\n      4/8\\n      \\n      5/10\\n      \\n      0\\n      \\n      12\\n      \\n      12\\n      \\n      7\\n      \\n      1\\n      \\n      2\\n      \\n      3\\n      \\n      4\\n      \\n      6\\n      \\n      10/30\\n      \\n        ORL\\n      W\\n      32\\n      \\n      19\\n      \\n      7/17\\n      \\n      2/6\\n      \\n      3/4\\n      \\n      0\\n      \\n      3\\n      \\n      3\\n      \\n      4\\n      \\n      3\\n      \\n      1\\n      \\n      0\\n      \\n      5\\n      \\n      5\\n      \\n      10/29\\n      \\n        @SAC\\n      L\\n      39\\n      \\n      27\\n      \\n      11/19\\n      \\n      3/8\\n      \\n      2/6\\n      \\n      0\\n      \\n      15\\n      \\n      15\\n      \\n      8\\n      \\n      0\\n      \\n      0\\n      \\n      2\\n      \\n      8\\n      \\n      -5\\n      \\n      10/26\\n      \\n        PHX\\n      W\\n      35\\n      \\n      21\\n      \\n      7/14\\n      \\n      1/5\\n      \\n      6/8\\n      \\n      1\\n      \\n      7\\n      \\n      8\\n      \\n      9\\n      \\n      2\\n      \\n      2\\n      \\n      1\\n      \\n      5\\n      \\n      22\\n      \\n      10/24\\n      \\n        @DEN\\n      L\\n      29\\n      \\n      21\\n      \\n      10/16\\n      \\n      1/4\\n      \\n      0/1\\n      \\n      1\\n      \\n      7\\n      \\n      8\\n      \\n      5\\n      \\n      1\\n      \\n      0\\n      \\n      1\\n      \\n      0\\n      \\n      7\\n       \\n      MIN\\n    \\n       - Minutes Played\\n      \\n      PTS\\n    \\n       - Points\\n      \\n      FG\\n    \\n       - Field Goals\\n      \\n      3FG\\n    \\n       - Three Point Field Goals\\n      \\n      FT\\n    \\n       - Free Throws\\n      \\n      OFF REB\\n    \\n       - Offensive Rebounds\\n      \\n      DEF REB\\n    \\n       - Defensive Rebounds\\n      \\n      REB\\n    \\n       - Rebounds\\n      \\n      AST\\n    \\n       - Assists\\n      \\n      STL\\n    \\n       - Steals\\n      \\n      BLK\\n    \\n       - Blocks\\n      \\n      PF\\n    \\n       - Personal Fouls\\n      \\n      TO\\n    \\n       - Turnovers\\n      \\n      +/-\\n    \\n       - Plus Minus\\n        Top Leagues  NFL College Football NBA MLB College Basketball UFL Top Shows  Undisputed The Herd with Colin Cowherd First Things First Flippin' Bats with Ben Verlander The Skip Bayless Show The Carton Show Affiliated Apps  FOX Sports Quick Links  Soccer Leagues and Tournaments 2024 Summer Olympics 2024 NFL Preseason Schedule 2024 MLB Playoff Picture \\n      FOX SPORTS™, SPEED™, SPEED.COM™ & © 2024 Fox Media LLC and\\n      Fox Sports Interactive Media, LLC. All rights reserved. Use of this\\n      website (including any and all parts and components) constitutes your\\n      acceptance of these\\n      \\n          Updated Terms of Use and \\n        \\n          Privacy Policy | \\n        \\n          Advertising Choices | \\n        \\n          Your Privacy Choices | \\n        \\n          Closed Captioning\\n                HelpPressAdvertise with UsJobsFOX CincyRSSSitemap FS1FOXFOX NewsFox CorporationFOX Sports SupportsFOX Deportes \\n\\n\\n\", metadata={'source': 'https://www.foxsports.com/nba/lebron-james-player-game-log?season=2023&seasonType=reg', 'title': 'LeBron James Game Log - NBA  | FOX Sports', 'description': 'Find detailed LeBron James game log and last game stats on FOXSports.com. ', 'language': 'en-US'})]"
      ]
     },
     "execution_count": 2,
     "metadata": {},
     "output_type": "execute_result"
    }
   ],
   "source": [
    "loader = WebBaseLoader(\"https://www.foxsports.com/nba/lebron-james-player-game-log?season=2023&seasonType=reg\")\n",
    "data = loader.load()\n",
    "data"
   ]
  },
  {
   "cell_type": "markdown",
   "metadata": {},
   "source": [
    "# 2. Convert data to Vector Database\n"
   ]
  },
  {
   "cell_type": "code",
   "execution_count": 3,
   "metadata": {},
   "outputs": [
    {
     "data": {
      "text/plain": [
       "<langchain_community.vectorstores.chroma.Chroma at 0x1145e6010>"
      ]
     },
     "execution_count": 3,
     "metadata": {},
     "output_type": "execute_result"
    }
   ],
   "source": [
    "from langchain.vectorstores import Chroma\n",
    "from langchain.embeddings import GPT4AllEmbeddings\n",
    "\n",
    "Chroma.from_documents(documents=data, embedding=GPT4AllEmbeddings(), persist_directory=\"./chroma_db\")"
   ]
  },
  {
   "cell_type": "markdown",
   "metadata": {},
   "source": [
    "# 3. Make a RAG pipeline\n"
   ]
  },
  {
   "cell_type": "code",
   "execution_count": 4,
   "metadata": {},
   "outputs": [],
   "source": [
    "from langchain_community.chat_models import ChatOllama\n",
    "from langchain_core.output_parsers import StrOutputParser\n",
    "from langchain_core.prompts import ChatPromptTemplate\n",
    "from langchain.chains import RetrievalQA\n",
    "from langchain import hub"
   ]
  },
  {
   "cell_type": "code",
   "execution_count": 5,
   "metadata": {},
   "outputs": [],
   "source": [
    "#use can also use hugginface chat: \n",
    "# https://python.langchain.com/v0.2/docs/integrations/platforms/huggingface/\n",
    "\n",
    "llm = ChatOllama(model=\"llama3.1\")\n",
    "prompt = hub.pull(\"rlm/rag-prompt\")\n",
    "vectorstore = Chroma(persist_directory=\"./chroma_db\", embedding_function=GPT4AllEmbeddings())"
   ]
  },
  {
   "cell_type": "code",
   "execution_count": 6,
   "metadata": {},
   "outputs": [],
   "source": [
    "qa_chain = RetrievalQA.from_chain_type(\n",
    "        llm,\n",
    "        retriever=vectorstore.as_retriever(),\n",
    "        chain_type_kwargs={\"prompt\": prompt}\n",
    "    )"
   ]
  },
  {
   "cell_type": "code",
   "execution_count": 7,
   "metadata": {},
   "outputs": [
    {
     "name": "stderr",
     "output_type": "stream",
     "text": [
      "/opt/anaconda3/lib/python3.11/site-packages/langchain_core/_api/deprecation.py:119: LangChainDeprecationWarning: The method `Chain.__call__` was deprecated in langchain 0.1.0 and will be removed in 0.3.0. Use invoke instead.\n",
      "  warn_deprecated(\n",
      "Number of requested results 4 is greater than number of elements in index 1, updating n_results = 1\n"
     ]
    }
   ],
   "source": [
    "question = \"Explain what the table is Showing\"\n",
    "result = qa_chain({\"query\": question ,})"
   ]
  },
  {
   "cell_type": "code",
   "execution_count": 8,
   "metadata": {},
   "outputs": [
    {
     "data": {
      "text/plain": [
       "'There is no answer to provide as the text appears to be a snippet from a sports website or app, and it does not contain any specific question that needs an answer. The text seems to be a list of scores or statistics for various sports teams and games, along with some information about the teams and leagues. If you could clarify what specific question you are trying to get an answer for, I would be happy to try and assist you!'"
      ]
     },
     "execution_count": 8,
     "metadata": {},
     "output_type": "execute_result"
    }
   ],
   "source": [
    "result[\"result\"]"
   ]
  },
  {
   "cell_type": "code",
   "execution_count": null,
   "metadata": {},
   "outputs": [],
   "source": []
  }
 ],
 "metadata": {
  "kernelspec": {
   "display_name": "base",
   "language": "python",
   "name": "python3"
  },
  "language_info": {
   "codemirror_mode": {
    "name": "ipython",
    "version": 3
   },
   "file_extension": ".py",
   "mimetype": "text/x-python",
   "name": "python",
   "nbconvert_exporter": "python",
   "pygments_lexer": "ipython3",
   "version": "3.11.7"
  }
 },
 "nbformat": 4,
 "nbformat_minor": 2
}
